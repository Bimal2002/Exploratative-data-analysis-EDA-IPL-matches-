{
 "cells": [
  {
   "cell_type": "markdown",
   "id": "66b21217",
   "metadata": {},
   "source": [
    "# Exploratative Data Analysis of IPL Matches"
   ]
  },
  {
   "cell_type": "markdown",
   "id": "4ad49e38",
   "metadata": {},
   "source": [
    "### Importing Libraries"
   ]
  },
  {
   "cell_type": "code",
   "execution_count": 1,
   "id": "3bebd378",
   "metadata": {},
   "outputs": [],
   "source": [
    "import pandas as pd\n",
    "import numpy as np\n",
    "import matplotlib.pyplot as plt\n",
    "import seaborn as sns\n",
    "%matplotlib inline"
   ]
  },
  {
   "cell_type": "markdown",
   "id": "9d3f7441",
   "metadata": {},
   "source": [
    "### Importing IPL Dataset"
   ]
  },
  {
   "cell_type": "code",
   "execution_count": 2,
   "id": "ef01ce6b",
   "metadata": {},
   "outputs": [
    {
     "data": {
      "text/html": [
       "<div>\n",
       "<style scoped>\n",
       "    .dataframe tbody tr th:only-of-type {\n",
       "        vertical-align: middle;\n",
       "    }\n",
       "\n",
       "    .dataframe tbody tr th {\n",
       "        vertical-align: top;\n",
       "    }\n",
       "\n",
       "    .dataframe thead th {\n",
       "        text-align: right;\n",
       "    }\n",
       "</style>\n",
       "<table border=\"1\" class=\"dataframe\">\n",
       "  <thead>\n",
       "    <tr style=\"text-align: right;\">\n",
       "      <th></th>\n",
       "      <th>id</th>\n",
       "      <th>season</th>\n",
       "      <th>city</th>\n",
       "      <th>date</th>\n",
       "      <th>team1</th>\n",
       "      <th>team2</th>\n",
       "      <th>toss_winner</th>\n",
       "      <th>toss_decision</th>\n",
       "      <th>result</th>\n",
       "      <th>dl_applied</th>\n",
       "      <th>winner</th>\n",
       "      <th>win_by_runs</th>\n",
       "      <th>win_by_wickets</th>\n",
       "      <th>player_of_match</th>\n",
       "      <th>venue</th>\n",
       "      <th>umpire1</th>\n",
       "      <th>umpire2</th>\n",
       "      <th>umpire3</th>\n",
       "    </tr>\n",
       "  </thead>\n",
       "  <tbody>\n",
       "    <tr>\n",
       "      <th>0</th>\n",
       "      <td>1</td>\n",
       "      <td>2008</td>\n",
       "      <td>Bangalore</td>\n",
       "      <td>2008-04-18</td>\n",
       "      <td>Kolkata Knight Riders</td>\n",
       "      <td>Royal Challengers Bangalore</td>\n",
       "      <td>Royal Challengers Bangalore</td>\n",
       "      <td>field</td>\n",
       "      <td>normal</td>\n",
       "      <td>0</td>\n",
       "      <td>Kolkata Knight Riders</td>\n",
       "      <td>140</td>\n",
       "      <td>0</td>\n",
       "      <td>BB McCullum</td>\n",
       "      <td>M Chinnaswamy Stadium</td>\n",
       "      <td>Asad Rauf</td>\n",
       "      <td>RE Koertzen</td>\n",
       "      <td>NaN</td>\n",
       "    </tr>\n",
       "    <tr>\n",
       "      <th>1</th>\n",
       "      <td>2</td>\n",
       "      <td>2008</td>\n",
       "      <td>Chandigarh</td>\n",
       "      <td>2008-04-19</td>\n",
       "      <td>Chennai Super Kings</td>\n",
       "      <td>Kings XI Punjab</td>\n",
       "      <td>Chennai Super Kings</td>\n",
       "      <td>bat</td>\n",
       "      <td>normal</td>\n",
       "      <td>0</td>\n",
       "      <td>Chennai Super Kings</td>\n",
       "      <td>33</td>\n",
       "      <td>0</td>\n",
       "      <td>MEK Hussey</td>\n",
       "      <td>Punjab Cricket Association Stadium, Mohali</td>\n",
       "      <td>MR Benson</td>\n",
       "      <td>SL Shastri</td>\n",
       "      <td>NaN</td>\n",
       "    </tr>\n",
       "    <tr>\n",
       "      <th>2</th>\n",
       "      <td>3</td>\n",
       "      <td>2008</td>\n",
       "      <td>Delhi</td>\n",
       "      <td>2008-04-19</td>\n",
       "      <td>Rajasthan Royals</td>\n",
       "      <td>Delhi Daredevils</td>\n",
       "      <td>Rajasthan Royals</td>\n",
       "      <td>bat</td>\n",
       "      <td>normal</td>\n",
       "      <td>0</td>\n",
       "      <td>Delhi Daredevils</td>\n",
       "      <td>0</td>\n",
       "      <td>9</td>\n",
       "      <td>MF Maharoof</td>\n",
       "      <td>Feroz Shah Kotla</td>\n",
       "      <td>Aleem Dar</td>\n",
       "      <td>GA Pratapkumar</td>\n",
       "      <td>NaN</td>\n",
       "    </tr>\n",
       "    <tr>\n",
       "      <th>3</th>\n",
       "      <td>4</td>\n",
       "      <td>2008</td>\n",
       "      <td>Mumbai</td>\n",
       "      <td>2008-04-20</td>\n",
       "      <td>Mumbai Indians</td>\n",
       "      <td>Royal Challengers Bangalore</td>\n",
       "      <td>Mumbai Indians</td>\n",
       "      <td>bat</td>\n",
       "      <td>normal</td>\n",
       "      <td>0</td>\n",
       "      <td>Royal Challengers Bangalore</td>\n",
       "      <td>0</td>\n",
       "      <td>5</td>\n",
       "      <td>MV Boucher</td>\n",
       "      <td>Wankhede Stadium</td>\n",
       "      <td>SJ Davis</td>\n",
       "      <td>DJ Harper</td>\n",
       "      <td>NaN</td>\n",
       "    </tr>\n",
       "    <tr>\n",
       "      <th>4</th>\n",
       "      <td>5</td>\n",
       "      <td>2008</td>\n",
       "      <td>Kolkata</td>\n",
       "      <td>2008-04-20</td>\n",
       "      <td>Deccan Chargers</td>\n",
       "      <td>Kolkata Knight Riders</td>\n",
       "      <td>Deccan Chargers</td>\n",
       "      <td>bat</td>\n",
       "      <td>normal</td>\n",
       "      <td>0</td>\n",
       "      <td>Kolkata Knight Riders</td>\n",
       "      <td>0</td>\n",
       "      <td>5</td>\n",
       "      <td>DJ Hussey</td>\n",
       "      <td>Eden Gardens</td>\n",
       "      <td>BF Bowden</td>\n",
       "      <td>K Hariharan</td>\n",
       "      <td>NaN</td>\n",
       "    </tr>\n",
       "    <tr>\n",
       "      <th>5</th>\n",
       "      <td>6</td>\n",
       "      <td>2008</td>\n",
       "      <td>Jaipur</td>\n",
       "      <td>2008-04-21</td>\n",
       "      <td>Kings XI Punjab</td>\n",
       "      <td>Rajasthan Royals</td>\n",
       "      <td>Kings XI Punjab</td>\n",
       "      <td>bat</td>\n",
       "      <td>normal</td>\n",
       "      <td>0</td>\n",
       "      <td>Rajasthan Royals</td>\n",
       "      <td>0</td>\n",
       "      <td>6</td>\n",
       "      <td>SR Watson</td>\n",
       "      <td>Sawai Mansingh Stadium</td>\n",
       "      <td>Aleem Dar</td>\n",
       "      <td>RB Tiffin</td>\n",
       "      <td>NaN</td>\n",
       "    </tr>\n",
       "    <tr>\n",
       "      <th>6</th>\n",
       "      <td>7</td>\n",
       "      <td>2008</td>\n",
       "      <td>Hyderabad</td>\n",
       "      <td>2008-04-22</td>\n",
       "      <td>Deccan Chargers</td>\n",
       "      <td>Delhi Daredevils</td>\n",
       "      <td>Deccan Chargers</td>\n",
       "      <td>bat</td>\n",
       "      <td>normal</td>\n",
       "      <td>0</td>\n",
       "      <td>Delhi Daredevils</td>\n",
       "      <td>0</td>\n",
       "      <td>9</td>\n",
       "      <td>V Sehwag</td>\n",
       "      <td>Rajiv Gandhi International Stadium, Uppal</td>\n",
       "      <td>IL Howell</td>\n",
       "      <td>AM Saheba</td>\n",
       "      <td>NaN</td>\n",
       "    </tr>\n",
       "    <tr>\n",
       "      <th>7</th>\n",
       "      <td>8</td>\n",
       "      <td>2008</td>\n",
       "      <td>Chennai</td>\n",
       "      <td>2008-04-23</td>\n",
       "      <td>Chennai Super Kings</td>\n",
       "      <td>Mumbai Indians</td>\n",
       "      <td>Mumbai Indians</td>\n",
       "      <td>field</td>\n",
       "      <td>normal</td>\n",
       "      <td>0</td>\n",
       "      <td>Chennai Super Kings</td>\n",
       "      <td>6</td>\n",
       "      <td>0</td>\n",
       "      <td>ML Hayden</td>\n",
       "      <td>MA Chidambaram Stadium, Chepauk</td>\n",
       "      <td>DJ Harper</td>\n",
       "      <td>GA Pratapkumar</td>\n",
       "      <td>NaN</td>\n",
       "    </tr>\n",
       "    <tr>\n",
       "      <th>8</th>\n",
       "      <td>9</td>\n",
       "      <td>2008</td>\n",
       "      <td>Hyderabad</td>\n",
       "      <td>2008-04-24</td>\n",
       "      <td>Deccan Chargers</td>\n",
       "      <td>Rajasthan Royals</td>\n",
       "      <td>Rajasthan Royals</td>\n",
       "      <td>field</td>\n",
       "      <td>normal</td>\n",
       "      <td>0</td>\n",
       "      <td>Rajasthan Royals</td>\n",
       "      <td>0</td>\n",
       "      <td>3</td>\n",
       "      <td>YK Pathan</td>\n",
       "      <td>Rajiv Gandhi International Stadium, Uppal</td>\n",
       "      <td>Asad Rauf</td>\n",
       "      <td>MR Benson</td>\n",
       "      <td>NaN</td>\n",
       "    </tr>\n",
       "    <tr>\n",
       "      <th>9</th>\n",
       "      <td>10</td>\n",
       "      <td>2008</td>\n",
       "      <td>Chandigarh</td>\n",
       "      <td>2008-04-25</td>\n",
       "      <td>Kings XI Punjab</td>\n",
       "      <td>Mumbai Indians</td>\n",
       "      <td>Mumbai Indians</td>\n",
       "      <td>field</td>\n",
       "      <td>normal</td>\n",
       "      <td>0</td>\n",
       "      <td>Kings XI Punjab</td>\n",
       "      <td>66</td>\n",
       "      <td>0</td>\n",
       "      <td>KC Sangakkara</td>\n",
       "      <td>Punjab Cricket Association Stadium, Mohali</td>\n",
       "      <td>Aleem Dar</td>\n",
       "      <td>AM Saheba</td>\n",
       "      <td>NaN</td>\n",
       "    </tr>\n",
       "  </tbody>\n",
       "</table>\n",
       "</div>"
      ],
      "text/plain": [
       "   id  season        city        date                  team1  \\\n",
       "0   1    2008   Bangalore  2008-04-18  Kolkata Knight Riders   \n",
       "1   2    2008  Chandigarh  2008-04-19    Chennai Super Kings   \n",
       "2   3    2008       Delhi  2008-04-19       Rajasthan Royals   \n",
       "3   4    2008      Mumbai  2008-04-20         Mumbai Indians   \n",
       "4   5    2008     Kolkata  2008-04-20        Deccan Chargers   \n",
       "5   6    2008      Jaipur  2008-04-21        Kings XI Punjab   \n",
       "6   7    2008   Hyderabad  2008-04-22        Deccan Chargers   \n",
       "7   8    2008     Chennai  2008-04-23    Chennai Super Kings   \n",
       "8   9    2008   Hyderabad  2008-04-24        Deccan Chargers   \n",
       "9  10    2008  Chandigarh  2008-04-25        Kings XI Punjab   \n",
       "\n",
       "                         team2                  toss_winner toss_decision  \\\n",
       "0  Royal Challengers Bangalore  Royal Challengers Bangalore         field   \n",
       "1              Kings XI Punjab          Chennai Super Kings           bat   \n",
       "2             Delhi Daredevils             Rajasthan Royals           bat   \n",
       "3  Royal Challengers Bangalore               Mumbai Indians           bat   \n",
       "4        Kolkata Knight Riders              Deccan Chargers           bat   \n",
       "5             Rajasthan Royals              Kings XI Punjab           bat   \n",
       "6             Delhi Daredevils              Deccan Chargers           bat   \n",
       "7               Mumbai Indians               Mumbai Indians         field   \n",
       "8             Rajasthan Royals             Rajasthan Royals         field   \n",
       "9               Mumbai Indians               Mumbai Indians         field   \n",
       "\n",
       "   result  dl_applied                       winner  win_by_runs  \\\n",
       "0  normal           0        Kolkata Knight Riders          140   \n",
       "1  normal           0          Chennai Super Kings           33   \n",
       "2  normal           0             Delhi Daredevils            0   \n",
       "3  normal           0  Royal Challengers Bangalore            0   \n",
       "4  normal           0        Kolkata Knight Riders            0   \n",
       "5  normal           0             Rajasthan Royals            0   \n",
       "6  normal           0             Delhi Daredevils            0   \n",
       "7  normal           0          Chennai Super Kings            6   \n",
       "8  normal           0             Rajasthan Royals            0   \n",
       "9  normal           0              Kings XI Punjab           66   \n",
       "\n",
       "   win_by_wickets player_of_match                                       venue  \\\n",
       "0               0     BB McCullum                       M Chinnaswamy Stadium   \n",
       "1               0      MEK Hussey  Punjab Cricket Association Stadium, Mohali   \n",
       "2               9     MF Maharoof                            Feroz Shah Kotla   \n",
       "3               5      MV Boucher                            Wankhede Stadium   \n",
       "4               5       DJ Hussey                                Eden Gardens   \n",
       "5               6       SR Watson                      Sawai Mansingh Stadium   \n",
       "6               9        V Sehwag   Rajiv Gandhi International Stadium, Uppal   \n",
       "7               0       ML Hayden             MA Chidambaram Stadium, Chepauk   \n",
       "8               3       YK Pathan   Rajiv Gandhi International Stadium, Uppal   \n",
       "9               0   KC Sangakkara  Punjab Cricket Association Stadium, Mohali   \n",
       "\n",
       "     umpire1         umpire2  umpire3  \n",
       "0  Asad Rauf     RE Koertzen      NaN  \n",
       "1  MR Benson      SL Shastri      NaN  \n",
       "2  Aleem Dar  GA Pratapkumar      NaN  \n",
       "3   SJ Davis       DJ Harper      NaN  \n",
       "4  BF Bowden     K Hariharan      NaN  \n",
       "5  Aleem Dar       RB Tiffin      NaN  \n",
       "6  IL Howell       AM Saheba      NaN  \n",
       "7  DJ Harper  GA Pratapkumar      NaN  \n",
       "8  Asad Rauf       MR Benson      NaN  \n",
       "9  Aleem Dar       AM Saheba      NaN  "
      ]
     },
     "execution_count": 2,
     "metadata": {},
     "output_type": "execute_result"
    }
   ],
   "source": [
    "data=pd.read_csv(\"IPL.csv\")\n",
    "# data.head()\n",
    "data.head(10)"
   ]
  },
  {
   "cell_type": "markdown",
   "id": "e38cc424",
   "metadata": {},
   "source": [
    "### How big is the dataset? (Rows and Columns)"
   ]
  },
  {
   "cell_type": "code",
   "execution_count": 3,
   "id": "b933f9f6",
   "metadata": {},
   "outputs": [
    {
     "data": {
      "text/plain": [
       "(577, 18)"
      ]
     },
     "execution_count": 3,
     "metadata": {},
     "output_type": "execute_result"
    }
   ],
   "source": [
    "data.shape"
   ]
  },
  {
   "cell_type": "markdown",
   "id": "d3ed0122",
   "metadata": {},
   "source": [
    "### Name of all the columns (labels)"
   ]
  },
  {
   "cell_type": "code",
   "execution_count": 4,
   "id": "10f2f5f4",
   "metadata": {},
   "outputs": [
    {
     "data": {
      "text/plain": [
       "Index(['id', 'season', 'city', 'date', 'team1', 'team2', 'toss_winner',\n",
       "       'toss_decision', 'result', 'dl_applied', 'winner', 'win_by_runs',\n",
       "       'win_by_wickets', 'player_of_match', 'venue', 'umpire1', 'umpire2',\n",
       "       'umpire3'],\n",
       "      dtype='object')"
      ]
     },
     "execution_count": 4,
     "metadata": {},
     "output_type": "execute_result"
    }
   ],
   "source": [
    "data.columns"
   ]
  },
  {
   "cell_type": "markdown",
   "id": "a2f749c8",
   "metadata": {},
   "source": [
    "### Data Pre-processing Finding out NaN values"
   ]
  },
  {
   "cell_type": "code",
   "execution_count": 5,
   "id": "0d85bbb1",
   "metadata": {},
   "outputs": [
    {
     "data": {
      "text/plain": [
       "id                 False\n",
       "season             False\n",
       "city                True\n",
       "date               False\n",
       "team1              False\n",
       "team2              False\n",
       "toss_winner        False\n",
       "toss_decision      False\n",
       "result             False\n",
       "dl_applied         False\n",
       "winner              True\n",
       "win_by_runs        False\n",
       "win_by_wickets     False\n",
       "player_of_match     True\n",
       "venue              False\n",
       "umpire1            False\n",
       "umpire2            False\n",
       "umpire3             True\n",
       "dtype: bool"
      ]
     },
     "execution_count": 5,
     "metadata": {},
     "output_type": "execute_result"
    }
   ],
   "source": [
    "data.isna().any()"
   ]
  },
  {
   "cell_type": "code",
   "execution_count": 6,
   "id": "cd7a5458",
   "metadata": {},
   "outputs": [
    {
     "data": {
      "text/html": [
       "<div>\n",
       "<style scoped>\n",
       "    .dataframe tbody tr th:only-of-type {\n",
       "        vertical-align: middle;\n",
       "    }\n",
       "\n",
       "    .dataframe tbody tr th {\n",
       "        vertical-align: top;\n",
       "    }\n",
       "\n",
       "    .dataframe thead th {\n",
       "        text-align: right;\n",
       "    }\n",
       "</style>\n",
       "<table border=\"1\" class=\"dataframe\">\n",
       "  <thead>\n",
       "    <tr style=\"text-align: right;\">\n",
       "      <th></th>\n",
       "      <th>id</th>\n",
       "      <th>season</th>\n",
       "      <th>dl_applied</th>\n",
       "      <th>win_by_runs</th>\n",
       "      <th>win_by_wickets</th>\n",
       "      <th>umpire3</th>\n",
       "    </tr>\n",
       "  </thead>\n",
       "  <tbody>\n",
       "    <tr>\n",
       "      <th>count</th>\n",
       "      <td>577.000000</td>\n",
       "      <td>577.000000</td>\n",
       "      <td>577.000000</td>\n",
       "      <td>577.000000</td>\n",
       "      <td>577.000000</td>\n",
       "      <td>0.0</td>\n",
       "    </tr>\n",
       "    <tr>\n",
       "      <th>mean</th>\n",
       "      <td>289.000000</td>\n",
       "      <td>2012.029463</td>\n",
       "      <td>0.025997</td>\n",
       "      <td>13.715771</td>\n",
       "      <td>3.363951</td>\n",
       "      <td>NaN</td>\n",
       "    </tr>\n",
       "    <tr>\n",
       "      <th>std</th>\n",
       "      <td>166.709828</td>\n",
       "      <td>2.486247</td>\n",
       "      <td>0.159263</td>\n",
       "      <td>23.619282</td>\n",
       "      <td>3.416049</td>\n",
       "      <td>NaN</td>\n",
       "    </tr>\n",
       "    <tr>\n",
       "      <th>min</th>\n",
       "      <td>1.000000</td>\n",
       "      <td>2008.000000</td>\n",
       "      <td>0.000000</td>\n",
       "      <td>0.000000</td>\n",
       "      <td>0.000000</td>\n",
       "      <td>NaN</td>\n",
       "    </tr>\n",
       "    <tr>\n",
       "      <th>25%</th>\n",
       "      <td>145.000000</td>\n",
       "      <td>2010.000000</td>\n",
       "      <td>0.000000</td>\n",
       "      <td>0.000000</td>\n",
       "      <td>0.000000</td>\n",
       "      <td>NaN</td>\n",
       "    </tr>\n",
       "    <tr>\n",
       "      <th>50%</th>\n",
       "      <td>289.000000</td>\n",
       "      <td>2012.000000</td>\n",
       "      <td>0.000000</td>\n",
       "      <td>0.000000</td>\n",
       "      <td>3.000000</td>\n",
       "      <td>NaN</td>\n",
       "    </tr>\n",
       "    <tr>\n",
       "      <th>75%</th>\n",
       "      <td>433.000000</td>\n",
       "      <td>2014.000000</td>\n",
       "      <td>0.000000</td>\n",
       "      <td>20.000000</td>\n",
       "      <td>6.000000</td>\n",
       "      <td>NaN</td>\n",
       "    </tr>\n",
       "    <tr>\n",
       "      <th>max</th>\n",
       "      <td>577.000000</td>\n",
       "      <td>2016.000000</td>\n",
       "      <td>1.000000</td>\n",
       "      <td>144.000000</td>\n",
       "      <td>10.000000</td>\n",
       "      <td>NaN</td>\n",
       "    </tr>\n",
       "  </tbody>\n",
       "</table>\n",
       "</div>"
      ],
      "text/plain": [
       "               id       season  dl_applied  win_by_runs  win_by_wickets  \\\n",
       "count  577.000000   577.000000  577.000000   577.000000      577.000000   \n",
       "mean   289.000000  2012.029463    0.025997    13.715771        3.363951   \n",
       "std    166.709828     2.486247    0.159263    23.619282        3.416049   \n",
       "min      1.000000  2008.000000    0.000000     0.000000        0.000000   \n",
       "25%    145.000000  2010.000000    0.000000     0.000000        0.000000   \n",
       "50%    289.000000  2012.000000    0.000000     0.000000        3.000000   \n",
       "75%    433.000000  2014.000000    0.000000    20.000000        6.000000   \n",
       "max    577.000000  2016.000000    1.000000   144.000000       10.000000   \n",
       "\n",
       "       umpire3  \n",
       "count      0.0  \n",
       "mean       NaN  \n",
       "std        NaN  \n",
       "min        NaN  \n",
       "25%        NaN  \n",
       "50%        NaN  \n",
       "75%        NaN  \n",
       "max        NaN  "
      ]
     },
     "execution_count": 6,
     "metadata": {},
     "output_type": "execute_result"
    }
   ],
   "source": [
    "data.describe()"
   ]
  },
  {
   "cell_type": "code",
   "execution_count": 7,
   "id": "4c108cf9",
   "metadata": {},
   "outputs": [
    {
     "data": {
      "text/plain": [
       "577"
      ]
     },
     "execution_count": 7,
     "metadata": {},
     "output_type": "execute_result"
    }
   ],
   "source": [
    "data['id'].count()"
   ]
  },
  {
   "cell_type": "markdown",
   "id": "2f6aefde",
   "metadata": {},
   "source": [
    "### How many IPL seasons are we using to analysis?"
   ]
  },
  {
   "cell_type": "code",
   "execution_count": 8,
   "id": "125f4c14",
   "metadata": {},
   "outputs": [
    {
     "data": {
      "text/plain": [
       "array([2008, 2009, 2010, 2011, 2012, 2013, 2014, 2015, 2016], dtype=int64)"
      ]
     },
     "execution_count": 8,
     "metadata": {},
     "output_type": "execute_result"
    }
   ],
   "source": [
    "data['season'].unique()"
   ]
  },
  {
   "cell_type": "markdown",
   "id": "4f55dea4",
   "metadata": {},
   "source": [
    "### which IPL team won by scoring the maximum runs?"
   ]
  },
  {
   "cell_type": "code",
   "execution_count": 9,
   "id": "84ba1b18",
   "metadata": {},
   "outputs": [
    {
     "data": {
      "text/plain": [
       "id                                         561\n",
       "season                                    2016\n",
       "city                                 Bangalore\n",
       "date                                2016-05-14\n",
       "team1              Royal Challengers Bangalore\n",
       "team2                            Gujarat Lions\n",
       "toss_winner                      Gujarat Lions\n",
       "toss_decision                            field\n",
       "result                                  normal\n",
       "dl_applied                                   0\n",
       "winner             Royal Challengers Bangalore\n",
       "win_by_runs                                144\n",
       "win_by_wickets                               0\n",
       "player_of_match                 AB de Villiers\n",
       "venue                    M Chinnaswamy Stadium\n",
       "umpire1                            AY Dandekar\n",
       "umpire2                              VK Sharma\n",
       "umpire3                                    NaN\n",
       "Name: 560, dtype: object"
      ]
     },
     "execution_count": 9,
     "metadata": {},
     "output_type": "execute_result"
    }
   ],
   "source": [
    "data.iloc[data['win_by_runs'].idxmax()]"
   ]
  },
  {
   "cell_type": "markdown",
   "id": "28c09c41",
   "metadata": {},
   "source": [
    "### which ipl team win by maximum wickets"
   ]
  },
  {
   "cell_type": "code",
   "execution_count": 10,
   "id": "46f9c586",
   "metadata": {},
   "outputs": [
    {
     "data": {
      "text/plain": [
       "id                                         13\n",
       "season                                   2008\n",
       "city                                   Mumbai\n",
       "date                               2008-04-27\n",
       "team1                          Mumbai Indians\n",
       "team2                         Deccan Chargers\n",
       "toss_winner                   Deccan Chargers\n",
       "toss_decision                           field\n",
       "result                                 normal\n",
       "dl_applied                                  0\n",
       "winner                        Deccan Chargers\n",
       "win_by_runs                                 0\n",
       "win_by_wickets                             10\n",
       "player_of_match                  AC Gilchrist\n",
       "venue              Dr DY Patil Sports Academy\n",
       "umpire1                             Asad Rauf\n",
       "umpire2                            SL Shastri\n",
       "umpire3                                   NaN\n",
       "Name: 12, dtype: object"
      ]
     },
     "execution_count": 10,
     "metadata": {},
     "output_type": "execute_result"
    }
   ],
   "source": [
    "data.iloc[data['win_by_wickets'].idxmax()]"
   ]
  },
  {
   "cell_type": "markdown",
   "id": "77b0220a",
   "metadata": {},
   "source": [
    "### Which ipl team win by minimum wickets"
   ]
  },
  {
   "cell_type": "code",
   "execution_count": 11,
   "id": "95d45e16",
   "metadata": {
    "scrolled": true
   },
   "outputs": [
    {
     "data": {
      "text/plain": [
       "id                                           1\n",
       "season                                    2008\n",
       "city                                 Bangalore\n",
       "date                                2008-04-18\n",
       "team1                    Kolkata Knight Riders\n",
       "team2              Royal Challengers Bangalore\n",
       "toss_winner        Royal Challengers Bangalore\n",
       "toss_decision                            field\n",
       "result                                  normal\n",
       "dl_applied                                   0\n",
       "winner                   Kolkata Knight Riders\n",
       "win_by_runs                                140\n",
       "win_by_wickets                               0\n",
       "player_of_match                    BB McCullum\n",
       "venue                    M Chinnaswamy Stadium\n",
       "umpire1                              Asad Rauf\n",
       "umpire2                            RE Koertzen\n",
       "umpire3                                    NaN\n",
       "Name: 0, dtype: object"
      ]
     },
     "execution_count": 11,
     "metadata": {},
     "output_type": "execute_result"
    }
   ],
   "source": [
    "data.iloc[data['win_by_wickets'].idxmin()]"
   ]
  },
  {
   "cell_type": "markdown",
   "id": "6b626458",
   "metadata": {},
   "source": [
    "### Which season consisted of the highest numbers of matches ever played?\n"
   ]
  },
  {
   "cell_type": "code",
   "execution_count": 12,
   "id": "1286cbcb",
   "metadata": {},
   "outputs": [
    {
     "data": {
      "text/plain": [
       "<function matplotlib.pyplot.show(close=None, block=None)>"
      ]
     },
     "execution_count": 12,
     "metadata": {},
     "output_type": "execute_result"
    },
    {
     "data": {
      "image/png": "[encoded data removed]",
      "text/plain": [
       "<Figure size 2000x400 with 1 Axes>"
      ]
     },
     "metadata": {},
     "output_type": "display_data"
    }
   ],
   "source": [
    "fig_dims=(20,4)\n",
    "fig,ax=plt.subplots(figsize=fig_dims)\n",
    "sns.countplot(x='season',ax=ax,data=data)\n",
    "plt.show"
   ]
  },
  {
   "cell_type": "code",
   "execution_count": 13,
   "id": "a4638f77",
   "metadata": {},
   "outputs": [
    {
     "data": {
      "text/plain": [
       "<AxesSubplot:xlabel='winner'>"
      ]
     },
     "execution_count": 13,
     "metadata": {},
     "output_type": "execute_result"
    },
    {
     "data": {
      "image/png": "[encoded data removed]",
      "text/plain": [
       "<Figure size 640x480 with 1 Axes>"
      ]
     },
     "metadata": {},
     "output_type": "display_data"
    }
   ],
   "source": [
    "data1=data.winner.value_counts()\n",
    "sns.barplot(y=data1.index,x=data1)"
   ]
  },
  {
   "cell_type": "markdown",
   "id": "a749986b",
   "metadata": {},
   "source": [
    "### What is the probability of winning a match if the toss was won?\n"
   ]
  },
  {
   "cell_type": "code",
   "execution_count": 14,
   "id": "e322a97b",
   "metadata": {},
   "outputs": [
    {
     "data": {
      "text/plain": [
       "False    286\n",
       "True     291\n",
       "dtype: int64"
      ]
     },
     "execution_count": 14,
     "metadata": {},
     "output_type": "execute_result"
    }
   ],
   "source": [
    "probability_of_win=data['toss_winner']==data['winner']\n",
    "\n",
    "probability_of_win.groupby(probability_of_win).size()"
   ]
  },
  {
   "cell_type": "code",
   "execution_count": 15,
   "id": "9a5cdae1",
   "metadata": {},
   "outputs": [
    {
     "name": "stderr",
     "output_type": "stream",
     "text": [
      "C:\\Users\\bimal\\anaconda3\\lib\\site-packages\\seaborn\\_decorators.py:36: FutureWarning: Pass the following variable as a keyword arg: x. From version 0.12, the only valid positional argument will be `data`, and passing other arguments without an explicit keyword will result in an error or misinterpretation.\n",
      "  warnings.warn(\n"
     ]
    },
    {
     "data": {
      "text/plain": [
       "<AxesSubplot:ylabel='count'>"
      ]
     },
     "execution_count": 15,
     "metadata": {},
     "output_type": "execute_result"
    },
    {
     "data": {
      "image/png": "[encoded data removed]",
      "text/plain": [
       "<Figure size 640x480 with 1 Axes>"
      ]
     },
     "metadata": {},
     "output_type": "display_data"
    }
   ],
   "source": [
    "sns.countplot(probability_of_win)"
   ]
  },
  {
   "cell_type": "markdown",
   "id": "081b3585",
   "metadata": {},
   "source": [
    "### setting a higher row width"
   ]
  },
  {
   "cell_type": "code",
   "execution_count": 28,
   "id": "109fae74",
   "metadata": {},
   "outputs": [
    {
     "name": "stdout",
     "output_type": "stream",
     "text": [
      "400\n"
     ]
    }
   ],
   "source": [
    "pd.set_option('display.max_rows', 99999)\n",
    "pd.set_option('display.max_colwidth', 400)\n",
    "\n",
    "max_colwidth_option = pd.get_option('display.max_colwidth')\n",
    "print(max_colwidth_option)\n"
   ]
  },
  {
   "cell_type": "markdown",
   "id": "7d386758",
   "metadata": {},
   "source": [
    "### Highest wins by teams per season"
   ]
  },
  {
   "cell_type": "code",
   "execution_count": 29,
   "id": "3f104a7e",
   "metadata": {},
   "outputs": [
    {
     "data": {
      "text/plain": [
       "season  winner                     \n",
       "2008    Rajasthan Royals               13\n",
       "        Kings XI Punjab                10\n",
       "        Chennai Super Kings             9\n",
       "        Delhi Daredevils                7\n",
       "        Mumbai Indians                  7\n",
       "        Kolkata Knight Riders           6\n",
       "        Royal Challengers Bangalore     4\n",
       "        Deccan Chargers                 2\n",
       "2009    Delhi Daredevils               10\n",
       "        Deccan Chargers                 9\n",
       "        Royal Challengers Bangalore     9\n",
       "        Chennai Super Kings             8\n",
       "        Kings XI Punjab                 7\n",
       "        Rajasthan Royals                6\n",
       "        Mumbai Indians                  5\n",
       "        Kolkata Knight Riders           3\n",
       "2010    Mumbai Indians                 11\n",
       "        Chennai Super Kings             9\n",
       "        Deccan Chargers                 8\n",
       "        Royal Challengers Bangalore     8\n",
       "        Delhi Daredevils                7\n",
       "        Kolkata Knight Riders           7\n",
       "        Rajasthan Royals                6\n",
       "        Kings XI Punjab                 4\n",
       "2011    Chennai Super Kings            11\n",
       "        Mumbai Indians                 10\n",
       "        Royal Challengers Bangalore    10\n",
       "        Kolkata Knight Riders           8\n",
       "        Kings XI Punjab                 7\n",
       "        Deccan Chargers                 6\n",
       "        Kochi Tuskers Kerala            6\n",
       "        Rajasthan Royals                6\n",
       "        Delhi Daredevils                4\n",
       "        Pune Warriors                   4\n",
       "2012    Kolkata Knight Riders          12\n",
       "        Delhi Daredevils               11\n",
       "        Chennai Super Kings            10\n",
       "        Mumbai Indians                 10\n",
       "        Kings XI Punjab                 8\n",
       "        Royal Challengers Bangalore     8\n",
       "        Rajasthan Royals                7\n",
       "        Deccan Chargers                 4\n",
       "        Pune Warriors                   4\n",
       "2013    Mumbai Indians                 13\n",
       "        Chennai Super Kings            12\n",
       "        Rajasthan Royals               11\n",
       "        Sunrisers Hyderabad            10\n",
       "        Royal Challengers Bangalore     9\n",
       "        Kings XI Punjab                 8\n",
       "        Kolkata Knight Riders           6\n",
       "        Pune Warriors                   4\n",
       "        Delhi Daredevils                3\n",
       "2014    Kings XI Punjab                12\n",
       "        Kolkata Knight Riders          11\n",
       "        Chennai Super Kings            10\n",
       "        Mumbai Indians                  7\n",
       "        Rajasthan Royals                7\n",
       "        Sunrisers Hyderabad             6\n",
       "        Royal Challengers Bangalore     5\n",
       "        Delhi Daredevils                2\n",
       "2015    Chennai Super Kings            10\n",
       "        Mumbai Indians                 10\n",
       "        Royal Challengers Bangalore     8\n",
       "        Kolkata Knight Riders           7\n",
       "        Rajasthan Royals                7\n",
       "        Sunrisers Hyderabad             7\n",
       "        Delhi Daredevils                5\n",
       "        Kings XI Punjab                 3\n",
       "2016    Sunrisers Hyderabad            11\n",
       "        Gujarat Lions                   9\n",
       "        Royal Challengers Bangalore     9\n",
       "        Kolkata Knight Riders           8\n",
       "        Delhi Daredevils                7\n",
       "        Mumbai Indians                  7\n",
       "        Rising Pune Supergiants         5\n",
       "        Kings XI Punjab                 4\n",
       "Name: winner, dtype: int64"
      ]
     },
     "execution_count": 29,
     "metadata": {},
     "output_type": "execute_result"
    }
   ],
   "source": [
    "data.groupby('season')['winner'].value_counts()"
   ]
  },
  {
   "cell_type": "code",
   "execution_count": 30,
   "id": "c4bdb3ed",
   "metadata": {},
   "outputs": [
    {
     "data": {
      "text/plain": [
       "field    315\n",
       "bat      262\n",
       "Name: toss_decision, dtype: int64"
      ]
     },
     "execution_count": 30,
     "metadata": {},
     "output_type": "execute_result"
    }
   ],
   "source": [
    "data['toss_decision'].value_counts()"
   ]
  },
  {
   "cell_type": "markdown",
   "id": "d06bd0e1",
   "metadata": {},
   "source": [
    "### Man of the match -highest to lowest (in won matches)"
   ]
  },
  {
   "cell_type": "code",
   "execution_count": 31,
   "id": "9f9737f6",
   "metadata": {},
   "outputs": [
    {
     "data": {
      "text/plain": [
       "CH Gayle             17\n",
       "YK Pathan            16\n",
       "AB de Villiers       15\n",
       "DA Warner            14\n",
       "RG Sharma            13\n",
       "SK Raina             13\n",
       "AM Rahane            12\n",
       "MEK Hussey           12\n",
       "G Gambhir            12\n",
       "MS Dhoni             12\n",
       "V Sehwag             11\n",
       "V Kohli              11\n",
       "SR Watson            10\n",
       "JH Kallis            10\n",
       "DR Smith             10\n",
       "SE Marsh              9\n",
       "A Mishra              9\n",
       "SR Tendulkar          8\n",
       "KA Pollard            8\n",
       "RA Jadeja             7\n",
       "AC Gilchrist          7\n",
       "AD Russell            6\n",
       "M Vijay               6\n",
       "Harbhajan Singh       6\n",
       "A Nehra               6\n",
       "UT Yadav              6\n",
       "AT Rayudu             6\n",
       "BJ Hodge              6\n",
       "BB McCullum           5\n",
       "RV Uthappa            5\n",
       "DPMD Jayawardene      5\n",
       "SC Ganguly            5\n",
       "AJ Finch              5\n",
       "DW Steyn              5\n",
       "SL Malinga            5\n",
       "KC Sangakkara         5\n",
       "JP Faulkner           5\n",
       "SP Narine             4\n",
       "MK Pandey             4\n",
       "KD Karthik            4\n",
       "SK Warne              4\n",
       "PA Patel              4\n",
       "GJ Maxwell            4\n",
       "JP Duminy             4\n",
       "B Kumar               4\n",
       "ML Hayden             4\n",
       "Yuvraj Singh          4\n",
       "LRPL Taylor           3\n",
       "SPD Smith             3\n",
       "MK Tiwary             3\n",
       "A Symonds             3\n",
       "KP Pietersen          3\n",
       "PP Chawla             3\n",
       "A Kumble              3\n",
       "M Vohra               3\n",
       "R Vinay Kumar         3\n",
       "Sandeep Sharma        3\n",
       "L Balaji              3\n",
       "DA Miller             3\n",
       "AR Patel              3\n",
       "Mandeep Singh         3\n",
       "SK Trivedi            2\n",
       "CH Morris             2\n",
       "DE Bollinger          2\n",
       "KK Nair               2\n",
       "AB Dinda              2\n",
       "MC Henriques          2\n",
       "HH Pandya             2\n",
       "LMP Simmons           2\n",
       "MP Stoinis            2\n",
       "PC Valthaty           2\n",
       "KH Pandya             2\n",
       "MM Patel              2\n",
       "Shakib Al Hasan       2\n",
       "Iqbal Abdulla         2\n",
       "I Sharma              2\n",
       "CJ Anderson           2\n",
       "F du Plessis          2\n",
       "R Sharma              2\n",
       "WP Saha               2\n",
       "PV Tambe              2\n",
       "MG Johnson            2\n",
       "SV Samson             2\n",
       "GH Vihari             2\n",
       "Harmeet Singh         2\n",
       "M Morkel              2\n",
       "Azhar Mahmood         2\n",
       "P Negi                2\n",
       "BW Hilfenhaus         2\n",
       "JD Unadkat            2\n",
       "R Dravid              2\n",
       "M Muralitharan        2\n",
       "GC Smith              2\n",
       "B Lee                 2\n",
       "Sohail Tanvir         2\n",
       "DJ Bravo              2\n",
       "SM Pollock            2\n",
       "DJ Hussey             2\n",
       "M Ntini               2\n",
       "MV Boucher            2\n",
       "IK Pathan             2\n",
       "P Kumar               2\n",
       "JA Morkel             2\n",
       "ST Jayasuriya         2\n",
       "Shoaib Akhtar         1\n",
       "S Sreesanth           1\n",
       "CRD Fernando          1\n",
       "YS Chahal             1\n",
       "MM Sharma             1\n",
       "CA Lynn               1\n",
       "LJ Wright             1\n",
       "AP Tare               1\n",
       "KK Cooper             1\n",
       "DJG Sammy             1\n",
       "SP Goswami            1\n",
       "SA Asnodkar           1\n",
       "GD McGrath            1\n",
       "DJ Hooda              1\n",
       "GJ Bailey             1\n",
       "HM Amla               1\n",
       "MF Maharoof           1\n",
       "A Zampa               1\n",
       "RR Pant               1\n",
       "CR Brathwaite         1\n",
       "JDP Oram              1\n",
       "SA Yadav              1\n",
       "Mustafizur Rahman     1\n",
       "Q de Kock             1\n",
       "MJ McClenaghan        1\n",
       "Z Khan                1\n",
       "SM Katich             1\n",
       "EJG Morgan            1\n",
       "NM Coulter-Nile       1\n",
       "TA Boult              1\n",
       "VR Aaron              1\n",
       "MA Starc              1\n",
       "SS Iyer               1\n",
       "MA Agarwal            1\n",
       "MS Gony               1\n",
       "RJ Harris             1\n",
       "Umar Gul              1\n",
       "S Sohal               1\n",
       "BA Bhatt              1\n",
       "MR Marsh              1\n",
       "AD Mathews            1\n",
       "P Parameswaran        1\n",
       "WPUJC Vaas            1\n",
       "J Botha               1\n",
       "AA Jhunjhunwala       1\n",
       "J Theron              1\n",
       "AC Voges              1\n",
       "KM Jadhav             1\n",
       "LR Shukla             1\n",
       "MD Mishra             1\n",
       "NV Ojha               1\n",
       "SB Wagh               1\n",
       "PD Collingwood        1\n",
       "S Anirudha            1\n",
       "MJ Lumb               1\n",
       "M Kartik              1\n",
       "TL Suman              1\n",
       "R McLaren             1\n",
       "S Aravind             1\n",
       "S Dhawan              1\n",
       "R Ashwin              1\n",
       "S Nadeem              1\n",
       "DL Vettori            1\n",
       "MS Bisla              1\n",
       "RP Singh              1\n",
       "A Chandila            1\n",
       "RS Bopara             1\n",
       "PP Ojha               1\n",
       "TM Dilshan            1\n",
       "CL White              1\n",
       "KMDN Kulasekara       1\n",
       "HH Gibbs              1\n",
       "JEC Franklin          1\n",
       "JD Ryder              1\n",
       "DP Nannes             1\n",
       "AD Mascarenhas        1\n",
       "SB Jakati             1\n",
       "A Singh               1\n",
       "MN Samuels            1\n",
       "S Badrinath           1\n",
       "R Bhatia              1\n",
       "RE Levi               1\n",
       "BCJ Cutting           1\n",
       "Name: player_of_match, dtype: int64"
      ]
     },
     "execution_count": 31,
     "metadata": {},
     "output_type": "execute_result"
    }
   ],
   "source": [
    "data['player_of_match'].value_counts()"
   ]
  },
  {
   "cell_type": "markdown",
   "id": "ad63e386",
   "metadata": {},
   "source": [
    "### In which city were the numbers of matches are played"
   ]
  },
  {
   "cell_type": "code",
   "execution_count": 32,
   "id": "70ff8911",
   "metadata": {},
   "outputs": [
    {
     "data": {
      "text/plain": [
       "Mumbai            77\n",
       "Bangalore         58\n",
       "Kolkata           54\n",
       "Delhi             53\n",
       "Chennai           48\n",
       "Chandigarh        42\n",
       "Hyderabad         41\n",
       "Jaipur            33\n",
       "Pune              25\n",
       "Durban            15\n",
       "Centurion         12\n",
       "Ahmedabad         12\n",
       "Visakhapatnam     11\n",
       "Dharamsala         9\n",
       "Johannesburg       8\n",
       "Cuttack            7\n",
       "Port Elizabeth     7\n",
       "Cape Town          7\n",
       "Ranchi             7\n",
       "Abu Dhabi          7\n",
       "Sharjah            6\n",
       "Raipur             6\n",
       "Kochi              5\n",
       "Rajkot             5\n",
       "Kimberley          3\n",
       "Nagpur             3\n",
       "East London        3\n",
       "Bloemfontein       2\n",
       "Indore             2\n",
       "Kanpur             2\n",
       "Name: city, dtype: int64"
      ]
     },
     "execution_count": 32,
     "metadata": {},
     "output_type": "execute_result"
    }
   ],
   "source": [
    "data['city'].value_counts()"
   ]
  },
  {
   "cell_type": "code",
   "execution_count": null,
   "id": "b2b3ff2d",
   "metadata": {},
   "outputs": [],
   "source": []
  }
 ],
 "metadata": {
  "kernelspec": {
   "display_name": "Python 3 (ipykernel)",
   "language": "python",
   "name": "python3"
  },
  "language_info": {
   "codemirror_mode": {
    "name": "ipython",
    "version": 3
   },
   "file_extension": ".py",
   "mimetype": "text/x-python",
   "name": "python",
   "nbconvert_exporter": "python",
   "pygments_lexer": "ipython3",
   "version": "3.9.13"
  }
 },
 "nbformat": 4,
 "nbformat_minor": 5
}
